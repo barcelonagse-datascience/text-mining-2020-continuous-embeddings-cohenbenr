{
 "cells": [
  {
   "cell_type": "markdown",
   "metadata": {},
   "source": [
    "# Assignment 3: Word2Vec\n",
    "\n",
    "In this assignment, we will see how we can use Word2Vec (or any similar word embedding) to use information from unlabelled data to help us classify better!\n",
    "\n",
    "You will be using the sentiment data from last week, either the yelps or movies, whichever you wish. \n",
    "\n",
    "Your goal will be to simulate the following situation: you have a **small** set of labelled data and a large set of unlabelled data. Show how the two follow 2 techniques compare as the amount of labelled data increases. You should train them on the small labelled subset and test their performance on the rest of the data. \n",
    "\n",
    "In other words, train on 1k, test on 99k. Then train on 2k, test on 98k. Then train on 4k, test on 96k. Etc.\n",
    "\n",
    "1. Logistic regression trained on labelled data, documents represented as term-frequency matrix of your choice. You can learn the vocabulary from the entire dataset or only the labelled data.\n",
    "\n",
    "2. Logistic regression trained on the labelled data, documents represented as word2vec vectors where you train word2vec using the entire dataset. Play around with different settings of word2vec (training window size, K-negative, skip-gram vs BOW, training windows, etc.). Note: we didn't go over the options in detail in class, so you will need to read about them a bit!\n",
    "\n",
    "You can read about the gensime word2vec implementation [here](https://radimrehurek.com/gensim/models/word2vec.html)."
   ]
  },
  {
   "cell_type": "markdown",
   "metadata": {},
   "source": [
    "## Imports"
   ]
  },
  {
   "cell_type": "code",
   "execution_count": 1,
   "metadata": {
    "ExecuteTime": {
     "end_time": "2020-05-12T12:54:15.279867Z",
     "start_time": "2020-05-12T12:54:14.303168Z"
    }
   },
   "outputs": [],
   "source": [
    "import re\n",
    "import time\n",
    "import pickle\n",
    "import logging\n",
    "\n",
    "import numpy as np\n",
    "import pandas as pd\n",
    "from matplotlib import pyplot as plt\n",
    "\n",
    "from gensim.models import Word2Vec\n",
    "from sklearn.decomposition import TruncatedSVD\n",
    "from sklearn.feature_extraction.text import TfidfVectorizer\n",
    "from sklearn.linear_model import LogisticRegression\n",
    "from sklearn.metrics import roc_auc_score, accuracy_score\n",
    "from sklearn.model_selection import train_test_split,GridSearchCV\n",
    "import spacy"
   ]
  },
  {
   "cell_type": "code",
   "execution_count": 2,
   "metadata": {
    "ExecuteTime": {
     "end_time": "2020-05-12T12:54:15.305647Z",
     "start_time": "2020-05-12T12:54:15.303188Z"
    }
   },
   "outputs": [],
   "source": [
    "SEED = 42\n",
    "logging.basicConfig(level = logging.INFO, filename = \"assignment.log\",\n",
    "                   format = '%(asctime)s  %(levelname)-10s %(message)s')"
   ]
  },
  {
   "cell_type": "code",
   "execution_count": 6,
   "metadata": {
    "ExecuteTime": {
     "end_time": "2020-05-12T12:54:32.262248Z",
     "start_time": "2020-05-12T12:54:32.255861Z"
    }
   },
   "outputs": [],
   "source": [
    "logging.info('First log message')"
   ]
  },
  {
   "cell_type": "markdown",
   "metadata": {},
   "source": [
    "## Functions"
   ]
  },
  {
   "cell_type": "code",
   "execution_count": 7,
   "metadata": {
    "ExecuteTime": {
     "end_time": "2020-05-12T12:54:50.675708Z",
     "start_time": "2020-05-12T12:54:50.117986Z"
    }
   },
   "outputs": [],
   "source": [
    "not_alphanumeric_or_space = re.compile('[^(\\w|\\s|\\d)]')\n",
    "nlp = spacy.load('en_core_web_sm')\n",
    "\n",
    "def preprocess(doc):\n",
    "    doc = re.sub(not_alphanumeric_or_space, '', doc)\n",
    "    doc = re.sub('\\d', '', doc)\n",
    "    words = [t.lemma_ for t in nlp(doc) if t.lemma_ != '-PRON-']\n",
    "    return ' '.join(words).lower()"
   ]
  },
  {
   "cell_type": "code",
   "execution_count": 8,
   "metadata": {
    "ExecuteTime": {
     "end_time": "2020-05-12T12:54:50.706029Z",
     "start_time": "2020-05-12T12:54:50.703500Z"
    }
   },
   "outputs": [],
   "source": [
    "def x_decomp(X,n_components=10):\n",
    "    svd = TruncatedSVD(n_components=n_components,random_state=SEED)\n",
    "    svd.fit(X)\n",
    "    train_map = svd.components_.T\n",
    "    \n",
    "    return X@train_map"
   ]
  },
  {
   "cell_type": "code",
   "execution_count": 9,
   "metadata": {
    "ExecuteTime": {
     "end_time": "2020-05-12T12:54:51.335436Z",
     "start_time": "2020-05-12T12:54:51.314489Z"
    }
   },
   "outputs": [],
   "source": [
    "def score_logreg(X_train, X_test, y_train, y_test):\n",
    "    LogReg = LogisticRegression(solver='lbfgs')\n",
    "    parameters = {'C':[.5,1]}\n",
    "    lr = GridSearchCV(LogReg, parameters, \n",
    "                      n_jobs=7, cv=5,\n",
    "                      scoring='roc_auc',\n",
    "                      refit=True)\n",
    "    \n",
    "    lr.fit(X_train, y_train)\n",
    "    y_pred = lr.predict(X_test)\n",
    "    \n",
    "    #print('Logistic Regression Source Prediction')\n",
    "    #print(roc_auc_score(y_test,y_pred))\n",
    "    #print(accuracy_score(y_test,y_pred))\n",
    "    \n",
    "    return roc_auc_score(y_test,y_pred)"
   ]
  },
  {
   "cell_type": "code",
   "execution_count": 10,
   "metadata": {
    "ExecuteTime": {
     "end_time": "2020-05-12T12:54:51.972079Z",
     "start_time": "2020-05-12T12:54:51.963748Z"
    }
   },
   "outputs": [],
   "source": [
    "def embed_word2vec(doc,model):\n",
    "    result = np.zeros(100)\n",
    "    \n",
    "    for wrd in doc:\n",
    "        try:\n",
    "            wrd_emb = model.wv[wrd]\n",
    "        except KeyError:\n",
    "            wrd_emb = np.zeros(100)\n",
    "    \n",
    "        result += wrd_emb\n",
    "    \n",
    "    norm = np.linalg.norm(result)\n",
    "    if norm <= 0:\n",
    "        norm = 1\n",
    "        \n",
    "    return result / norm"
   ]
  },
  {
   "cell_type": "markdown",
   "metadata": {},
   "source": [
    "## Data"
   ]
  },
  {
   "cell_type": "code",
   "execution_count": 11,
   "metadata": {
    "ExecuteTime": {
     "end_time": "2020-05-12T12:54:53.333253Z",
     "start_time": "2020-05-12T12:54:52.799216Z"
    }
   },
   "outputs": [],
   "source": [
    "yelp = pd.read_csv('sentiment/yelps.csv')\n",
    "yelp = yelp[yelp.positive.isin(['True','False'])]\n",
    "\n",
    "yelp_y = (yelp['positive'].values == 'True')*1"
   ]
  },
  {
   "cell_type": "code",
   "execution_count": 12,
   "metadata": {
    "ExecuteTime": {
     "end_time": "2020-05-12T12:54:55.045190Z",
     "start_time": "2020-05-12T12:54:53.393188Z"
    }
   },
   "outputs": [],
   "source": [
    "# yelp_x = yelp['text']\n",
    "with open(\"sentiment/yelp_pickle.txt\", \"rb\") as fp:   # Unpickling\n",
    "    yelp_x = pickle.load(fp)"
   ]
  },
  {
   "cell_type": "code",
   "execution_count": 13,
   "metadata": {
    "ExecuteTime": {
     "end_time": "2020-05-12T12:54:55.966044Z",
     "start_time": "2020-05-12T12:54:55.094346Z"
    }
   },
   "outputs": [],
   "source": [
    "test_size = .99\n",
    "X_train, X_test, y_train, y_test = train_test_split(yelp_x, yelp_y, test_size=test_size, random_state=SEED)"
   ]
  },
  {
   "cell_type": "markdown",
   "metadata": {},
   "source": [
    "## The loop"
   ]
  },
  {
   "cell_type": "code",
   "execution_count": 14,
   "metadata": {
    "ExecuteTime": {
     "end_time": "2020-05-12T12:54:56.235802Z",
     "start_time": "2020-05-12T12:54:56.233239Z"
    }
   },
   "outputs": [],
   "source": [
    "sizes = [.99, .95, .9, .8, .7, .6]\n",
    "windows = [1,5,7] \n",
    "negatives = [0,5,7]\n",
    "skip = [0,1]\n",
    "results = []"
   ]
  },
  {
   "cell_type": "code",
   "execution_count": 15,
   "metadata": {
    "ExecuteTime": {
     "end_time": "2020-05-12T14:28:21.911792Z",
     "start_time": "2020-05-12T12:55:01.906893Z"
    }
   },
   "outputs": [
    {
     "name": "stdout",
     "output_type": "stream",
     "text": [
      "Tue May 12 14:55:01 2020\n"
     ]
    },
    {
     "name": "stderr",
     "output_type": "stream",
     "text": [
      "/home/bcohen/anaconda3/lib/python3.7/site-packages/sklearn/model_selection/_search.py:814: DeprecationWarning: The default of the `iid` parameter will change from True to False in version 0.22 and will be removed in 0.24. This will change numeric results when test-set sizes are unequal.\n",
      "  DeprecationWarning)\n",
      "/home/bcohen/anaconda3/lib/python3.7/site-packages/sklearn/model_selection/_search.py:814: DeprecationWarning: The default of the `iid` parameter will change from True to False in version 0.22 and will be removed in 0.24. This will change numeric results when test-set sizes are unequal.\n",
      "  DeprecationWarning)\n"
     ]
    },
    {
     "name": "stdout",
     "output_type": "stream",
     "text": [
      "Finished 0.99.\n",
      "Tue May 12 15:09:23 2020\n",
      "Finished 0.95.\n",
      "Tue May 12 15:23:43 2020\n",
      "Finished 0.9.\n",
      "Tue May 12 15:40:08 2020\n",
      "Finished 0.8.\n",
      "Tue May 12 15:55:22 2020\n"
     ]
    },
    {
     "name": "stderr",
     "output_type": "stream",
     "text": [
      "/home/bcohen/anaconda3/lib/python3.7/site-packages/sklearn/linear_model/logistic.py:947: ConvergenceWarning: lbfgs failed to converge. Increase the number of iterations.\n",
      "  \"of iterations.\", ConvergenceWarning)\n",
      "/home/bcohen/anaconda3/lib/python3.7/site-packages/sklearn/linear_model/logistic.py:947: ConvergenceWarning: lbfgs failed to converge. Increase the number of iterations.\n",
      "  \"of iterations.\", ConvergenceWarning)\n",
      "/home/bcohen/anaconda3/lib/python3.7/site-packages/sklearn/linear_model/logistic.py:947: ConvergenceWarning: lbfgs failed to converge. Increase the number of iterations.\n",
      "  \"of iterations.\", ConvergenceWarning)\n"
     ]
    },
    {
     "name": "stdout",
     "output_type": "stream",
     "text": [
      "Finished 0.7.\n",
      "Tue May 12 16:10:00 2020\n"
     ]
    },
    {
     "name": "stderr",
     "output_type": "stream",
     "text": [
      "/home/bcohen/anaconda3/lib/python3.7/site-packages/sklearn/linear_model/logistic.py:947: ConvergenceWarning: lbfgs failed to converge. Increase the number of iterations.\n",
      "  \"of iterations.\", ConvergenceWarning)\n"
     ]
    },
    {
     "name": "stdout",
     "output_type": "stream",
     "text": [
      "Finished 0.6.\n",
      "Tue May 12 16:28:21 2020\n"
     ]
    }
   ],
   "source": [
    "print(time.ctime())\n",
    "logging.info('Starting loop')\n",
    "for test_size in sizes:\n",
    "    X_train, X_test, y_train, y_test = train_test_split(yelp_x, yelp_y, \n",
    "                                                        test_size=test_size, random_state=SEED)\n",
    "\n",
    "    Vectorizer = TfidfVectorizer(min_df=5,\n",
    "                                 max_df=.8,\n",
    "                                 max_features=1000,\n",
    "                                 #preprocessor=preprocess,\n",
    "                                 #use_idf=False,\n",
    "                                 stop_words='english')\n",
    "\n",
    "    v_sparse = Vectorizer.fit_transform(X_train)\n",
    "    \n",
    "    #Embed onehots\n",
    "    X_train_emb = np.asarray(v_sparse.todense())\n",
    "    X_test_emb = Vectorizer.transform(X_test)\n",
    "\n",
    "    #Score onehot\n",
    "    score_1 = score_logreg(X_train_emb,X_test_emb,y_train,y_test)\n",
    "    results.append([test_size,'onehot','a','b','c',score_1])\n",
    "    del X_train_emb, X_test_emb\n",
    "    \n",
    "    #Re-format for word2vec\n",
    "    W_train = np.array([x.split(' ') for x in X_train])\n",
    "    W_test = np.array([x.split(' ') for x in X_test])\n",
    "    del X_train, X_test\n",
    "    \n",
    "    logging.info('Finished onehot %s.' % test_size) \n",
    "    \n",
    "    #Loop over attributes of word2vec\n",
    "    for w in windows:\n",
    "        for kneg in negatives:\n",
    "            for sg in skip:\n",
    "                #Build word2vec\n",
    "                w2v = Word2Vec(W_train, size=100, min_count=2, workers=5, \n",
    "                               window=w, negative = kneg, sg = sg)\n",
    "\n",
    "                #Embed word2vec\n",
    "                W_train_emb = np.array([embed_word2vec(doc,w2v) for doc in W_train])\n",
    "                W_test_emb = np.array([embed_word2vec(doc,w2v) for doc in W_test])\n",
    "                del w2v\n",
    "\n",
    "                score_2 = score_logreg(W_train_emb,W_test_emb,y_train,y_test)\n",
    "                results.append([test_size,'word2vec',w,kneg,sg,score_2])\n",
    "                del W_train_emb, W_test_emb\n",
    "                \n",
    "                logging.info('Finished w2v %s, %s, %s.' % (w, kneg, sg)) \n",
    "\n",
    "    print('Finished %s.' % test_size)\n",
    "    print(time.ctime())"
   ]
  },
  {
   "cell_type": "markdown",
   "metadata": {},
   "source": [
    "## Analytics"
   ]
  },
  {
   "cell_type": "markdown",
   "metadata": {},
   "source": [
    "For various training data sizes, I trained both a tfidf-vectorizer (that I call 'onehot') and word2vec, with a variety of parameter choices for word2vec.  Maximum vocabulary was always 1000 for the tfidf, and vector size 100 for the word2vec, but there were 18 different permutations of parameters for word2vec.  I trained the vectorizer on in-sample data only, trained a logistic regression (also in-sample only), and then tested on the remaining out of sample data.\n",
    "\n",
    "Then I chose the best set of parameters from each run and the 12th best (representing a 'typical' or un-optimized run) and plotted their scores as a function of training data size.  There are other ways to do this but it seemed fine for what I'm after (in hindsight, I'd have chosen best and default parameters)"
   ]
  },
  {
   "cell_type": "code",
   "execution_count": 34,
   "metadata": {
    "ExecuteTime": {
     "end_time": "2020-05-12T14:34:59.960765Z",
     "start_time": "2020-05-12T14:34:59.933495Z"
    }
   },
   "outputs": [],
   "source": [
    "results_df = pd.DataFrame(results)\n",
    "results_df.columns = ['test_size','algo','w','kneg','sg','score']\n",
    "\n",
    "results_df['group_rk'] = results_df.groupby(['test_size','algo'])['score'].rank('first', ascending=False)\n",
    "\n",
    "results_df = results_df[results_df['group_rk'].isin([1.,12.])]\n",
    "\n",
    "results_df['training_size'] = 1 - results_df['test_size']\n",
    "results_df['log_training'] = np.log(100000 * results_df['training_size'])\n",
    "\n",
    "results_df['title'] = results_df['algo'] + '_' + np.where(results_df['group_rk']==1.,'best','typical')\n",
    "\n",
    "results_df_g = results_df[['log_training','title','score']]"
   ]
  },
  {
   "cell_type": "code",
   "execution_count": 86,
   "metadata": {
    "ExecuteTime": {
     "end_time": "2020-05-12T14:57:03.062167Z",
     "start_time": "2020-05-12T14:57:02.901819Z"
    }
   },
   "outputs": [
    {
     "data": {
      "image/png": "[encoded data removed]",
      "text/plain": [
       "<Figure size 432x288 with 1 Axes>"
      ]
     },
     "metadata": {
      "needs_background": "light"
     },
     "output_type": "display_data"
    }
   ],
   "source": [
    "plt.plot(results_df_g[results_df_g.title=='onehot_best']['log_training'], \n",
    "         results_df_g[results_df_g.title=='onehot_best']['score'],label='onehot',marker='x')\n",
    "plt.plot(results_df_g[results_df_g.title=='word2vec_best']['log_training'], \n",
    "         results_df_g[results_df_g.title=='word2vec_best']['score'],label='w2v_best',marker='x')\n",
    "plt.plot(results_df_g[results_df_g.title=='word2vec_typical']['log_training'], \n",
    "         results_df_g[results_df_g.title=='word2vec_typical']['score'],label='w2v_typical',marker='x')\n",
    "plt.legend(loc='lower right')\n",
    "plt.title('Embedding algorithm performance by train data size')\n",
    "plt.ylabel('ROC Score')\n",
    "plt.xlabel('Training Data Size (log)')\n",
    "plt.show()"
   ]
  },
  {
   "cell_type": "markdown",
   "metadata": {},
   "source": [
    "The value of additional data seems higher in word2vec than for onehot encoding, which does pretty well on only a few reviews.\n",
    "\n",
    "One reason it does so well is because I allowed a vocabuarly size of 1000 words, vs. only 100-dimensional vectors for word2vec.  With more challenging problems, this obviously won't scale, so it's good to see word2vec achieving the same level of performance on ~30k results. (The markers correspond to training data % on 100k observations of 1%, 5%, 10%, 20%, 30%, and 40%."
   ]
  },
  {
   "cell_type": "markdown",
   "metadata": {},
   "source": [
    "Now let's look at the average rank for each of the parameters"
   ]
  },
  {
   "cell_type": "code",
   "execution_count": 90,
   "metadata": {
    "ExecuteTime": {
     "end_time": "2020-05-12T15:03:09.059602Z",
     "start_time": "2020-05-12T15:03:09.037804Z"
    }
   },
   "outputs": [],
   "source": [
    "results_df = pd.DataFrame(results)\n",
    "results_df.columns = ['test_size','algo','w','kneg','sg','score']\n",
    "\n",
    "results_df['group_rk'] = results_df.groupby(['test_size','algo'])['score'].rank('first', ascending=False)\n",
    "\n",
    "results_df = results_df[results_df.algo=='word2vec']"
   ]
  },
  {
   "cell_type": "markdown",
   "metadata": {},
   "source": [
    "Window size:"
   ]
  },
  {
   "cell_type": "code",
   "execution_count": 96,
   "metadata": {
    "ExecuteTime": {
     "end_time": "2020-05-12T15:04:38.857191Z",
     "start_time": "2020-05-12T15:04:38.846773Z"
    }
   },
   "outputs": [
    {
     "data": {
      "text/plain": [
       "w\n",
       "1    11.194444\n",
       "5     8.916667\n",
       "7     8.388889\n",
       "Name: group_rk, dtype: float64"
      ]
     },
     "execution_count": 96,
     "metadata": {},
     "output_type": "execute_result"
    }
   ],
   "source": [
    "results_df.groupby(['w'])['group_rk'].mean()"
   ]
  },
  {
   "cell_type": "markdown",
   "metadata": {},
   "source": [
    "K-negative samples"
   ]
  },
  {
   "cell_type": "code",
   "execution_count": 98,
   "metadata": {
    "ExecuteTime": {
     "end_time": "2020-05-12T15:05:29.298111Z",
     "start_time": "2020-05-12T15:05:29.291746Z"
    }
   },
   "outputs": [
    {
     "data": {
      "text/plain": [
       "kneg\n",
       "0    13.333333\n",
       "5     8.027778\n",
       "7     7.138889\n",
       "Name: group_rk, dtype: float64"
      ]
     },
     "execution_count": 98,
     "metadata": {},
     "output_type": "execute_result"
    }
   ],
   "source": [
    "results_df.groupby(['kneg'])['group_rk'].mean()"
   ]
  },
  {
   "cell_type": "markdown",
   "metadata": {},
   "source": [
    "CBOW or Skip-Gram (CBOW=0, SG=1)"
   ]
  },
  {
   "cell_type": "code",
   "execution_count": 103,
   "metadata": {
    "ExecuteTime": {
     "end_time": "2020-05-12T15:07:23.597456Z",
     "start_time": "2020-05-12T15:07:23.591036Z"
    }
   },
   "outputs": [
    {
     "data": {
      "text/plain": [
       "sg\n",
       "0    10.648148\n",
       "1     8.351852\n",
       "Name: group_rk, dtype: float64"
      ]
     },
     "execution_count": 103,
     "metadata": {},
     "output_type": "execute_result"
    }
   ],
   "source": [
    "results_df.groupby(['sg'])['group_rk'].mean()"
   ]
  },
  {
   "cell_type": "markdown",
   "metadata": {},
   "source": [
    "Top performers for larger data: large k-negative samples and larger windows do better, alongside general outperformance for skip-gram."
   ]
  },
  {
   "cell_type": "code",
   "execution_count": 105,
   "metadata": {
    "ExecuteTime": {
     "end_time": "2020-05-12T15:08:28.251497Z",
     "start_time": "2020-05-12T15:08:28.220840Z"
    }
   },
   "outputs": [
    {
     "data": {
      "text/html": [
       "<div>\n",
       "<style scoped>\n",
       "    .dataframe tbody tr th:only-of-type {\n",
       "        vertical-align: middle;\n",
       "    }\n",
       "\n",
       "    .dataframe tbody tr th {\n",
       "        vertical-align: top;\n",
       "    }\n",
       "\n",
       "    .dataframe thead th {\n",
       "        text-align: right;\n",
       "    }\n",
       "</style>\n",
       "<table border=\"1\" class=\"dataframe\">\n",
       "  <thead>\n",
       "    <tr style=\"text-align: right;\">\n",
       "      <th></th>\n",
       "      <th>test_size</th>\n",
       "      <th>algo</th>\n",
       "      <th>w</th>\n",
       "      <th>kneg</th>\n",
       "      <th>sg</th>\n",
       "      <th>score</th>\n",
       "      <th>group_rk</th>\n",
       "    </tr>\n",
       "  </thead>\n",
       "  <tbody>\n",
       "    <tr>\n",
       "      <th>113</th>\n",
       "      <td>0.6</td>\n",
       "      <td>word2vec</td>\n",
       "      <td>7</td>\n",
       "      <td>7</td>\n",
       "      <td>1</td>\n",
       "      <td>0.943425</td>\n",
       "      <td>1.0</td>\n",
       "    </tr>\n",
       "    <tr>\n",
       "      <th>111</th>\n",
       "      <td>0.6</td>\n",
       "      <td>word2vec</td>\n",
       "      <td>7</td>\n",
       "      <td>5</td>\n",
       "      <td>1</td>\n",
       "      <td>0.943409</td>\n",
       "      <td>2.0</td>\n",
       "    </tr>\n",
       "    <tr>\n",
       "      <th>107</th>\n",
       "      <td>0.6</td>\n",
       "      <td>word2vec</td>\n",
       "      <td>5</td>\n",
       "      <td>7</td>\n",
       "      <td>1</td>\n",
       "      <td>0.941256</td>\n",
       "      <td>3.0</td>\n",
       "    </tr>\n",
       "    <tr>\n",
       "      <th>105</th>\n",
       "      <td>0.6</td>\n",
       "      <td>word2vec</td>\n",
       "      <td>5</td>\n",
       "      <td>5</td>\n",
       "      <td>1</td>\n",
       "      <td>0.941187</td>\n",
       "      <td>4.0</td>\n",
       "    </tr>\n",
       "    <tr>\n",
       "      <th>110</th>\n",
       "      <td>0.6</td>\n",
       "      <td>word2vec</td>\n",
       "      <td>7</td>\n",
       "      <td>5</td>\n",
       "      <td>0</td>\n",
       "      <td>0.937007</td>\n",
       "      <td>5.0</td>\n",
       "    </tr>\n",
       "    <tr>\n",
       "      <th>112</th>\n",
       "      <td>0.6</td>\n",
       "      <td>word2vec</td>\n",
       "      <td>7</td>\n",
       "      <td>7</td>\n",
       "      <td>0</td>\n",
       "      <td>0.936274</td>\n",
       "      <td>6.0</td>\n",
       "    </tr>\n",
       "    <tr>\n",
       "      <th>106</th>\n",
       "      <td>0.6</td>\n",
       "      <td>word2vec</td>\n",
       "      <td>5</td>\n",
       "      <td>7</td>\n",
       "      <td>0</td>\n",
       "      <td>0.934358</td>\n",
       "      <td>7.0</td>\n",
       "    </tr>\n",
       "    <tr>\n",
       "      <th>104</th>\n",
       "      <td>0.6</td>\n",
       "      <td>word2vec</td>\n",
       "      <td>5</td>\n",
       "      <td>5</td>\n",
       "      <td>0</td>\n",
       "      <td>0.933470</td>\n",
       "      <td>8.0</td>\n",
       "    </tr>\n",
       "    <tr>\n",
       "      <th>99</th>\n",
       "      <td>0.6</td>\n",
       "      <td>word2vec</td>\n",
       "      <td>1</td>\n",
       "      <td>5</td>\n",
       "      <td>1</td>\n",
       "      <td>0.924378</td>\n",
       "      <td>9.0</td>\n",
       "    </tr>\n",
       "    <tr>\n",
       "      <th>101</th>\n",
       "      <td>0.6</td>\n",
       "      <td>word2vec</td>\n",
       "      <td>1</td>\n",
       "      <td>7</td>\n",
       "      <td>1</td>\n",
       "      <td>0.923795</td>\n",
       "      <td>10.0</td>\n",
       "    </tr>\n",
       "  </tbody>\n",
       "</table>\n",
       "</div>"
      ],
      "text/plain": [
       "     test_size      algo  w kneg sg     score  group_rk\n",
       "113        0.6  word2vec  7    7  1  0.943425       1.0\n",
       "111        0.6  word2vec  7    5  1  0.943409       2.0\n",
       "107        0.6  word2vec  5    7  1  0.941256       3.0\n",
       "105        0.6  word2vec  5    5  1  0.941187       4.0\n",
       "110        0.6  word2vec  7    5  0  0.937007       5.0\n",
       "112        0.6  word2vec  7    7  0  0.936274       6.0\n",
       "106        0.6  word2vec  5    7  0  0.934358       7.0\n",
       "104        0.6  word2vec  5    5  0  0.933470       8.0\n",
       "99         0.6  word2vec  1    5  1  0.924378       9.0\n",
       "101        0.6  word2vec  1    7  1  0.923795      10.0"
      ]
     },
     "execution_count": 105,
     "metadata": {},
     "output_type": "execute_result"
    }
   ],
   "source": [
    "results_df[results_df.test_size==.6].sort_values('group_rk').head(10)"
   ]
  },
  {
   "cell_type": "markdown",
   "metadata": {
    "ExecuteTime": {
     "end_time": "2020-05-12T15:09:01.621065Z",
     "start_time": "2020-05-12T15:09:01.616942Z"
    }
   },
   "source": [
    "Top performers for smaller data: no k-negative samples dominates.  Once you introduce that, it still looks like skip gram outperforms.  Large window sizes still seem better."
   ]
  },
  {
   "cell_type": "code",
   "execution_count": 108,
   "metadata": {
    "ExecuteTime": {
     "end_time": "2020-05-12T15:10:11.001895Z",
     "start_time": "2020-05-12T15:10:10.972475Z"
    }
   },
   "outputs": [
    {
     "data": {
      "text/html": [
       "<div>\n",
       "<style scoped>\n",
       "    .dataframe tbody tr th:only-of-type {\n",
       "        vertical-align: middle;\n",
       "    }\n",
       "\n",
       "    .dataframe tbody tr th {\n",
       "        vertical-align: top;\n",
       "    }\n",
       "\n",
       "    .dataframe thead th {\n",
       "        text-align: right;\n",
       "    }\n",
       "</style>\n",
       "<table border=\"1\" class=\"dataframe\">\n",
       "  <thead>\n",
       "    <tr style=\"text-align: right;\">\n",
       "      <th></th>\n",
       "      <th>test_size</th>\n",
       "      <th>algo</th>\n",
       "      <th>w</th>\n",
       "      <th>kneg</th>\n",
       "      <th>sg</th>\n",
       "      <th>score</th>\n",
       "      <th>group_rk</th>\n",
       "    </tr>\n",
       "  </thead>\n",
       "  <tbody>\n",
       "    <tr>\n",
       "      <th>1</th>\n",
       "      <td>0.99</td>\n",
       "      <td>word2vec</td>\n",
       "      <td>1</td>\n",
       "      <td>0</td>\n",
       "      <td>0</td>\n",
       "      <td>0.787175</td>\n",
       "      <td>1.0</td>\n",
       "    </tr>\n",
       "    <tr>\n",
       "      <th>2</th>\n",
       "      <td>0.99</td>\n",
       "      <td>word2vec</td>\n",
       "      <td>1</td>\n",
       "      <td>0</td>\n",
       "      <td>1</td>\n",
       "      <td>0.787175</td>\n",
       "      <td>2.0</td>\n",
       "    </tr>\n",
       "    <tr>\n",
       "      <th>7</th>\n",
       "      <td>0.99</td>\n",
       "      <td>word2vec</td>\n",
       "      <td>5</td>\n",
       "      <td>0</td>\n",
       "      <td>0</td>\n",
       "      <td>0.787175</td>\n",
       "      <td>3.0</td>\n",
       "    </tr>\n",
       "    <tr>\n",
       "      <th>8</th>\n",
       "      <td>0.99</td>\n",
       "      <td>word2vec</td>\n",
       "      <td>5</td>\n",
       "      <td>0</td>\n",
       "      <td>1</td>\n",
       "      <td>0.787175</td>\n",
       "      <td>4.0</td>\n",
       "    </tr>\n",
       "    <tr>\n",
       "      <th>13</th>\n",
       "      <td>0.99</td>\n",
       "      <td>word2vec</td>\n",
       "      <td>7</td>\n",
       "      <td>0</td>\n",
       "      <td>0</td>\n",
       "      <td>0.787175</td>\n",
       "      <td>5.0</td>\n",
       "    </tr>\n",
       "    <tr>\n",
       "      <th>14</th>\n",
       "      <td>0.99</td>\n",
       "      <td>word2vec</td>\n",
       "      <td>7</td>\n",
       "      <td>0</td>\n",
       "      <td>1</td>\n",
       "      <td>0.787175</td>\n",
       "      <td>6.0</td>\n",
       "    </tr>\n",
       "    <tr>\n",
       "      <th>18</th>\n",
       "      <td>0.99</td>\n",
       "      <td>word2vec</td>\n",
       "      <td>7</td>\n",
       "      <td>7</td>\n",
       "      <td>1</td>\n",
       "      <td>0.783188</td>\n",
       "      <td>7.0</td>\n",
       "    </tr>\n",
       "    <tr>\n",
       "      <th>16</th>\n",
       "      <td>0.99</td>\n",
       "      <td>word2vec</td>\n",
       "      <td>7</td>\n",
       "      <td>5</td>\n",
       "      <td>1</td>\n",
       "      <td>0.782733</td>\n",
       "      <td>8.0</td>\n",
       "    </tr>\n",
       "    <tr>\n",
       "      <th>12</th>\n",
       "      <td>0.99</td>\n",
       "      <td>word2vec</td>\n",
       "      <td>5</td>\n",
       "      <td>7</td>\n",
       "      <td>1</td>\n",
       "      <td>0.778490</td>\n",
       "      <td>9.0</td>\n",
       "    </tr>\n",
       "    <tr>\n",
       "      <th>10</th>\n",
       "      <td>0.99</td>\n",
       "      <td>word2vec</td>\n",
       "      <td>5</td>\n",
       "      <td>5</td>\n",
       "      <td>1</td>\n",
       "      <td>0.776207</td>\n",
       "      <td>10.0</td>\n",
       "    </tr>\n",
       "    <tr>\n",
       "      <th>6</th>\n",
       "      <td>0.99</td>\n",
       "      <td>word2vec</td>\n",
       "      <td>1</td>\n",
       "      <td>7</td>\n",
       "      <td>1</td>\n",
       "      <td>0.700820</td>\n",
       "      <td>11.0</td>\n",
       "    </tr>\n",
       "    <tr>\n",
       "      <th>4</th>\n",
       "      <td>0.99</td>\n",
       "      <td>word2vec</td>\n",
       "      <td>1</td>\n",
       "      <td>5</td>\n",
       "      <td>1</td>\n",
       "      <td>0.695591</td>\n",
       "      <td>12.0</td>\n",
       "    </tr>\n",
       "  </tbody>\n",
       "</table>\n",
       "</div>"
      ],
      "text/plain": [
       "    test_size      algo  w kneg sg     score  group_rk\n",
       "1        0.99  word2vec  1    0  0  0.787175       1.0\n",
       "2        0.99  word2vec  1    0  1  0.787175       2.0\n",
       "7        0.99  word2vec  5    0  0  0.787175       3.0\n",
       "8        0.99  word2vec  5    0  1  0.787175       4.0\n",
       "13       0.99  word2vec  7    0  0  0.787175       5.0\n",
       "14       0.99  word2vec  7    0  1  0.787175       6.0\n",
       "18       0.99  word2vec  7    7  1  0.783188       7.0\n",
       "16       0.99  word2vec  7    5  1  0.782733       8.0\n",
       "12       0.99  word2vec  5    7  1  0.778490       9.0\n",
       "10       0.99  word2vec  5    5  1  0.776207      10.0\n",
       "6        0.99  word2vec  1    7  1  0.700820      11.0\n",
       "4        0.99  word2vec  1    5  1  0.695591      12.0"
      ]
     },
     "execution_count": 108,
     "metadata": {},
     "output_type": "execute_result"
    }
   ],
   "source": [
    "results_df[results_df.test_size==.99].sort_values('group_rk').head(12)"
   ]
  },
  {
   "cell_type": "markdown",
   "metadata": {},
   "source": [
    "## Old code"
   ]
  },
  {
   "cell_type": "code",
   "execution_count": null,
   "metadata": {},
   "outputs": [],
   "source": [
    "Vectorizer = TfidfVectorizer(min_df=5,\n",
    "                             max_df=.8,\n",
    "                             max_features=1000,\n",
    "                             #preprocessor=preprocess,\n",
    "                             #use_idf=False,\n",
    "                             stop_words='english')\n",
    "\n",
    "v_sparse = Vectorizer.fit_transform(X_train)\n",
    "v = np.asarray(v_sparse.todense())\n",
    "\n",
    "# Get out the labels (keys of the vocabulary), sorted by index.\n",
    "labels, _ = zip(*sorted(Vectorizer.vocabulary_.items(), key=lambda x: x[1]))"
   ]
  },
  {
   "cell_type": "code",
   "execution_count": null,
   "metadata": {},
   "outputs": [],
   "source": [
    "#Embedding training data\n",
    "start = time.time()\n",
    "X_train_emb = v\n",
    "print('%s seconds elapsed.' % str(round(time.time()-start,1)))"
   ]
  },
  {
   "cell_type": "code",
   "execution_count": null,
   "metadata": {},
   "outputs": [],
   "source": [
    "start = time.time()\n",
    "X_test_emb = Vectorizer.transform(X_test)\n",
    "print('%s seconds elapsed.' % str(round(time.time()-start,1)))"
   ]
  },
  {
   "cell_type": "markdown",
   "metadata": {},
   "source": [
    "### word2vec"
   ]
  },
  {
   "cell_type": "code",
   "execution_count": null,
   "metadata": {},
   "outputs": [],
   "source": [
    "W_train = np.array([x.split(' ') for x in X_train])\n",
    "W_test = np.array([x.split(' ') for x in X_test])"
   ]
  },
  {
   "cell_type": "code",
   "execution_count": null,
   "metadata": {},
   "outputs": [],
   "source": [
    "w2v = Word2Vec(W_train, size=100, window=5, min_count=2)\n",
    "#model.save(\"word2vec.model\")"
   ]
  },
  {
   "cell_type": "code",
   "execution_count": null,
   "metadata": {},
   "outputs": [],
   "source": [
    "W_train_emb = np.array([embed_word2vec(doc,w2v) for doc in W_train])\n",
    "W_test_emb = np.array([embed_word2vec(doc,w2v) for doc in W_test])"
   ]
  },
  {
   "cell_type": "markdown",
   "metadata": {},
   "source": [
    "### Logistic Regression"
   ]
  },
  {
   "cell_type": "code",
   "execution_count": null,
   "metadata": {},
   "outputs": [],
   "source": [
    "def score_logreg(xtrain, xtest, y_train, y_test):\n",
    "    LogReg = LogisticRegression(solver='lbfgs')\n",
    "    parameters = {'C':[.5,1]}\n",
    "    lr = GridSearchCV(LogReg, parameters, \n",
    "                      n_jobs=7, cv=5,\n",
    "                      scoring='roc_auc',\n",
    "                      refit=True)\n",
    "    \n",
    "    lr.fit(xtrain, y_train)\n",
    "    y_pred = lr.predict(xtest)\n",
    "    \n",
    "    #print('Logistic Regression Source Prediction')\n",
    "    #print(roc_auc_score(y_test,y_pred))\n",
    "    #print(accuracy_score(y_test,y_pred))\n",
    "    \n",
    "    return roc_auc_score(y_test,y_pred)"
   ]
  },
  {
   "cell_type": "code",
   "execution_count": null,
   "metadata": {},
   "outputs": [],
   "source": [
    "score_logreg(X_train_emb,X_test_emb,y_train,y_test)"
   ]
  },
  {
   "cell_type": "code",
   "execution_count": null,
   "metadata": {},
   "outputs": [],
   "source": [
    "score_logreg(W_train_emb,W_test_emb,y_train,y_test)"
   ]
  }
 ],
 "metadata": {
  "kernelspec": {
   "display_name": "Python 3",
   "language": "python",
   "name": "python3"
  },
  "language_info": {
   "codemirror_mode": {
    "name": "ipython",
    "version": 3
   },
   "file_extension": ".py",
   "mimetype": "text/x-python",
   "name": "python",
   "nbconvert_exporter": "python",
   "pygments_lexer": "ipython3",
   "version": "3.7.3"
  },
  "name": "assignment.ipynb",
  "toc": {
   "base_numbering": 1,
   "nav_menu": {},
   "number_sections": false,
   "sideBar": true,
   "skip_h1_title": false,
   "title_cell": "Table of Contents",
   "title_sidebar": "Contents",
   "toc_cell": false,
   "toc_position": {},
   "toc_section_display": true,
   "toc_window_display": true
  },
  "varInspector": {
   "cols": {
    "lenName": 16,
    "lenType": 16,
    "lenVar": 40
   },
   "kernels_config": {
    "python": {
     "delete_cmd_postfix": "",
     "delete_cmd_prefix": "del ",
     "library": "var_list.py",
     "varRefreshCmd": "print(var_dic_list())"
    },
    "r": {
     "delete_cmd_postfix": ") ",
     "delete_cmd_prefix": "rm(",
     "library": "var_list.r",
     "varRefreshCmd": "cat(var_dic_list()) "
    }
   },
   "types_to_exclude": [
    "module",
    "function",
    "builtin_function_or_method",
    "instance",
    "_Feature"
   ],
   "window_display": false
  }
 },
 "nbformat": 4,
 "nbformat_minor": 2
}
